{
 "cells": [
  {
   "cell_type": "code",
   "execution_count": 1,
   "metadata": {},
   "outputs": [],
   "source": [
    "import pandas as pd\n",
    "import numpy as np\n",
    "import os\n",
    "\n",
    "os.chdir('waterloo_datathon_datasets')\n",
    "pd.set_option('max_columns', 200)"
   ]
  },
  {
   "cell_type": "code",
   "execution_count": 2,
   "metadata": {},
   "outputs": [
    {
     "name": "stdout",
     "output_type": "stream",
     "text": [
      "      county_name                         health_topic  \\\n",
      "0          Albany  Family Planning/Natality Indicators   \n",
      "1        Allegany  Family Planning/Natality Indicators   \n",
      "2           Bronx  Family Planning/Natality Indicators   \n",
      "3          Broome  Family Planning/Natality Indicators   \n",
      "4  Capital Region  Family Planning/Natality Indicators   \n",
      "\n",
      "                                           indicator  event_count  \\\n",
      "0  Percentage of births within 24 months of previ...       2043.0   \n",
      "1  Percentage of births within 24 months of previ...        399.0   \n",
      "2  Percentage of births within 24 months of previ...      10032.0   \n",
      "3  Percentage of births within 24 months of previ...       1654.0   \n",
      "4  Percentage of births within 24 months of previ...       6273.0   \n",
      "\n",
      "   avg_num_of_denominator unit_measurement  precent_or_rate  low_limit_95p_CI  \\\n",
      "0                  3144.0       Percentage             21.7               NaN   \n",
      "1                   487.0       Percentage             27.3               NaN   \n",
      "2                 21249.0       Percentage             15.7               NaN   \n",
      "3                  2083.0       Percentage             26.5               NaN   \n",
      "4                  9774.0       Percentage             21.4               NaN   \n",
      "\n",
      "   upp_limit_95p_CI data_comment       year  \\\n",
      "0               NaN          NaN  2012-2014   \n",
      "1               NaN          NaN  2012-2014   \n",
      "2               NaN          NaN  2012-2014   \n",
      "3               NaN          NaN  2012-2014   \n",
      "4               NaN          NaN  2012-2014   \n",
      "\n",
      "                                       data_source                 lat_long  \n",
      "0  2012-2014 Vital Statistics Data as of May, 2016  (42.678066, -73.814233)  \n",
      "1  2012-2014 Vital Statistics Data as of May, 2016  (42.226801, -78.020567)  \n",
      "2  2012-2014 Vital Statistics Data as of May, 2016   (40.85589, -73.868294)  \n",
      "3  2012-2014 Vital Statistics Data as of May, 2016  (42.122015, -75.933191)  \n",
      "4  2012-2014 Vital Statistics Data as of May, 2016                      NaN  \n",
      "       county_name                            health_topic  \\\n",
      "24559        Wayne  Child and Adolescent Health Indicators   \n",
      "24560  Westchester  Child and Adolescent Health Indicators   \n",
      "24561   Western NY  Child and Adolescent Health Indicators   \n",
      "24562      Wyoming  Child and Adolescent Health Indicators   \n",
      "24563        Yates  Child and Adolescent Health Indicators   \n",
      "\n",
      "                                               indicator  event_count  \\\n",
      "24559  Pneumonia hospitalization rate per 10,000 - Ag...         31.0   \n",
      "24560  Pneumonia hospitalization rate per 10,000 - Ag...        551.0   \n",
      "24561  Pneumonia hospitalization rate per 10,000 - Ag...        626.0   \n",
      "24562  Pneumonia hospitalization rate per 10,000 - Ag...         10.0   \n",
      "24563  Pneumonia hospitalization rate per 10,000 - Ag...          7.0   \n",
      "\n",
      "       avg_num_of_denominator unit_measurement  precent_or_rate  \\\n",
      "24559                  5167.0             Rate             20.0   \n",
      "24560                 55557.0             Rate             33.1   \n",
      "24561                 81950.0             Rate             25.5   \n",
      "24562                  2029.0             Rate             16.4   \n",
      "24563                  1592.0             Rate             14.7   \n",
      "\n",
      "       low_limit_95p_CI  upp_limit_95p_CI       data_comment       year  \\\n",
      "24559               NaN               NaN                NaN  2012-2014   \n",
      "24560               NaN               NaN                NaN  2012-2014   \n",
      "24561               NaN               NaN                NaN  2012-2014   \n",
      "24562               NaN               NaN                NaN  2012-2014   \n",
      "24563               NaN               NaN  Unstable Estimate  2012-2014   \n",
      "\n",
      "                                      data_source                 lat_long  \n",
      "24559  2012-2014 SPARCS Data as of February, 2016  (43.144336, -77.117995)  \n",
      "24560  2012-2014 SPARCS Data as of February, 2016  (41.039278, -73.805386)  \n",
      "24561  2012-2014 SPARCS Data as of February, 2016                      NaN  \n",
      "24562  2012-2014 SPARCS Data as of February, 2016  (42.723641, -78.204473)  \n",
      "24563  2012-2014 SPARCS Data as of February, 2016  (42.634338, -77.078311)  \n"
     ]
    }
   ],
   "source": [
    "df = pd.read_csv(\"community_health.csv\")\n",
    "print(df.head())\n",
    "print(df.tail())"
   ]
  },
  {
   "cell_type": "code",
   "execution_count": 3,
   "metadata": {},
   "outputs": [
    {
     "data": {
      "text/plain": [
       "array(['Family Planning/Natality Indicators', 'Cancer Indicators',\n",
       "       'Oral Health Indicators', 'Maternal and Infant Health Indicators',\n",
       "       'Injury Indicators',\n",
       "       'Socio-Economic Status and General Health Indicators',\n",
       "       'Cardiovascular Disease Indicators',\n",
       "       'Child and Adolescent Health Indicators',\n",
       "       'Obesity and Related Indicators', 'Cirrhosis/Diabetes Indicators',\n",
       "       'HIV/AIDS and Other Sexually Transmitted Infection Indicators',\n",
       "       'Respiratory Disease Indicators',\n",
       "       'Tobacco, Alcohol and Other Substance Abuse Indicators',\n",
       "       'Communicable Disease Indicators',\n",
       "       'Occupational Health Indicators'], dtype=object)"
      ]
     },
     "execution_count": 3,
     "metadata": {},
     "output_type": "execute_result"
    }
   ],
   "source": [
    "df.health_topic.unique()"
   ]
  },
  {
   "cell_type": "code",
   "execution_count": 4,
   "metadata": {},
   "outputs": [
    {
     "name": "stdout",
     "output_type": "stream",
     "text": [
      "Index(['county_name', 'health_topic', 'indicator', 'event_count',\n",
      "       'avg_num_of_denominator', 'unit_measurement', 'precent_or_rate',\n",
      "       'low_limit_95p_CI', 'upp_limit_95p_CI', 'data_comment', 'year',\n",
      "       'data_source', 'lat', 'lng'],\n",
      "      dtype='object')\n"
     ]
    },
    {
     "data": {
      "text/html": [
       "<div>\n",
       "<style>\n",
       "    .dataframe thead tr:only-child th {\n",
       "        text-align: right;\n",
       "    }\n",
       "\n",
       "    .dataframe thead th {\n",
       "        text-align: left;\n",
       "    }\n",
       "\n",
       "    .dataframe tbody tr th {\n",
       "        vertical-align: top;\n",
       "    }\n",
       "</style>\n",
       "<table border=\"1\" class=\"dataframe\">\n",
       "  <thead>\n",
       "    <tr style=\"text-align: right;\">\n",
       "      <th></th>\n",
       "      <th>county_name</th>\n",
       "      <th>health_topic</th>\n",
       "      <th>indicator</th>\n",
       "      <th>event_count</th>\n",
       "      <th>avg_num_of_denominator</th>\n",
       "      <th>unit_measurement</th>\n",
       "      <th>precent_or_rate</th>\n",
       "      <th>low_limit_95p_CI</th>\n",
       "      <th>upp_limit_95p_CI</th>\n",
       "      <th>data_comment</th>\n",
       "      <th>year</th>\n",
       "      <th>data_source</th>\n",
       "      <th>lat</th>\n",
       "      <th>lng</th>\n",
       "    </tr>\n",
       "  </thead>\n",
       "  <tbody>\n",
       "    <tr>\n",
       "      <th>0</th>\n",
       "      <td>Albany</td>\n",
       "      <td>Family Planning/Natality Indicators</td>\n",
       "      <td>Percentage of births within 24 months of previ...</td>\n",
       "      <td>2043.0</td>\n",
       "      <td>3144.0</td>\n",
       "      <td>Percentage</td>\n",
       "      <td>21.7</td>\n",
       "      <td>NaN</td>\n",
       "      <td>NaN</td>\n",
       "      <td>NaN</td>\n",
       "      <td>2012-2014</td>\n",
       "      <td>2012-2014 Vital Statistics Data as of May, 2016</td>\n",
       "      <td>42.678066</td>\n",
       "      <td>-73.814233</td>\n",
       "    </tr>\n",
       "    <tr>\n",
       "      <th>1</th>\n",
       "      <td>Allegany</td>\n",
       "      <td>Family Planning/Natality Indicators</td>\n",
       "      <td>Percentage of births within 24 months of previ...</td>\n",
       "      <td>399.0</td>\n",
       "      <td>487.0</td>\n",
       "      <td>Percentage</td>\n",
       "      <td>27.3</td>\n",
       "      <td>NaN</td>\n",
       "      <td>NaN</td>\n",
       "      <td>NaN</td>\n",
       "      <td>2012-2014</td>\n",
       "      <td>2012-2014 Vital Statistics Data as of May, 2016</td>\n",
       "      <td>42.226801</td>\n",
       "      <td>-78.020567</td>\n",
       "    </tr>\n",
       "    <tr>\n",
       "      <th>2</th>\n",
       "      <td>Bronx</td>\n",
       "      <td>Family Planning/Natality Indicators</td>\n",
       "      <td>Percentage of births within 24 months of previ...</td>\n",
       "      <td>10032.0</td>\n",
       "      <td>21249.0</td>\n",
       "      <td>Percentage</td>\n",
       "      <td>15.7</td>\n",
       "      <td>NaN</td>\n",
       "      <td>NaN</td>\n",
       "      <td>NaN</td>\n",
       "      <td>2012-2014</td>\n",
       "      <td>2012-2014 Vital Statistics Data as of May, 2016</td>\n",
       "      <td>40.85589</td>\n",
       "      <td>-73.868294</td>\n",
       "    </tr>\n",
       "    <tr>\n",
       "      <th>3</th>\n",
       "      <td>Broome</td>\n",
       "      <td>Family Planning/Natality Indicators</td>\n",
       "      <td>Percentage of births within 24 months of previ...</td>\n",
       "      <td>1654.0</td>\n",
       "      <td>2083.0</td>\n",
       "      <td>Percentage</td>\n",
       "      <td>26.5</td>\n",
       "      <td>NaN</td>\n",
       "      <td>NaN</td>\n",
       "      <td>NaN</td>\n",
       "      <td>2012-2014</td>\n",
       "      <td>2012-2014 Vital Statistics Data as of May, 2016</td>\n",
       "      <td>42.122015</td>\n",
       "      <td>-75.933191</td>\n",
       "    </tr>\n",
       "    <tr>\n",
       "      <th>4</th>\n",
       "      <td>Capital Region</td>\n",
       "      <td>Family Planning/Natality Indicators</td>\n",
       "      <td>Percentage of births within 24 months of previ...</td>\n",
       "      <td>6273.0</td>\n",
       "      <td>9774.0</td>\n",
       "      <td>Percentage</td>\n",
       "      <td>21.4</td>\n",
       "      <td>NaN</td>\n",
       "      <td>NaN</td>\n",
       "      <td>NaN</td>\n",
       "      <td>2012-2014</td>\n",
       "      <td>2012-2014 Vital Statistics Data as of May, 2016</td>\n",
       "      <td>NaN</td>\n",
       "      <td>NaN</td>\n",
       "    </tr>\n",
       "  </tbody>\n",
       "</table>\n",
       "</div>"
      ],
      "text/plain": [
       "      county_name                         health_topic  \\\n",
       "0          Albany  Family Planning/Natality Indicators   \n",
       "1        Allegany  Family Planning/Natality Indicators   \n",
       "2           Bronx  Family Planning/Natality Indicators   \n",
       "3          Broome  Family Planning/Natality Indicators   \n",
       "4  Capital Region  Family Planning/Natality Indicators   \n",
       "\n",
       "                                           indicator  event_count  \\\n",
       "0  Percentage of births within 24 months of previ...       2043.0   \n",
       "1  Percentage of births within 24 months of previ...        399.0   \n",
       "2  Percentage of births within 24 months of previ...      10032.0   \n",
       "3  Percentage of births within 24 months of previ...       1654.0   \n",
       "4  Percentage of births within 24 months of previ...       6273.0   \n",
       "\n",
       "   avg_num_of_denominator unit_measurement  precent_or_rate  low_limit_95p_CI  \\\n",
       "0                  3144.0       Percentage             21.7               NaN   \n",
       "1                   487.0       Percentage             27.3               NaN   \n",
       "2                 21249.0       Percentage             15.7               NaN   \n",
       "3                  2083.0       Percentage             26.5               NaN   \n",
       "4                  9774.0       Percentage             21.4               NaN   \n",
       "\n",
       "   upp_limit_95p_CI data_comment       year  \\\n",
       "0               NaN          NaN  2012-2014   \n",
       "1               NaN          NaN  2012-2014   \n",
       "2               NaN          NaN  2012-2014   \n",
       "3               NaN          NaN  2012-2014   \n",
       "4               NaN          NaN  2012-2014   \n",
       "\n",
       "                                       data_source        lat         lng  \n",
       "0  2012-2014 Vital Statistics Data as of May, 2016  42.678066  -73.814233  \n",
       "1  2012-2014 Vital Statistics Data as of May, 2016  42.226801  -78.020567  \n",
       "2  2012-2014 Vital Statistics Data as of May, 2016   40.85589  -73.868294  \n",
       "3  2012-2014 Vital Statistics Data as of May, 2016  42.122015  -75.933191  \n",
       "4  2012-2014 Vital Statistics Data as of May, 2016        NaN         NaN  "
      ]
     },
     "execution_count": 4,
     "metadata": {},
     "output_type": "execute_result"
    }
   ],
   "source": [
    "df.loc[:, 'lat_long'] = df.lat_long.apply(lambda x: x.strip('()').split(', ') if not pd.isnull(x) else [np.nan, np.nan])\n",
    "df[['lat', 'lng']] = pd.DataFrame(df.lat_long.values.tolist())\n",
    "df.drop('lat_long', axis=1, inplace=True)\n",
    "\n",
    "print(df.columns)\n",
    "df.head()"
   ]
  },
  {
   "cell_type": "code",
   "execution_count": 5,
   "metadata": {},
   "outputs": [],
   "source": [
    "# drop data suppressed rows. Unreliable and not that many occurrences\n",
    "df = df[df['data_comment'] != 'Data Suppressed']"
   ]
  },
  {
   "cell_type": "code",
   "execution_count": 6,
   "metadata": {},
   "outputs": [],
   "source": [
    "# drop income and population data (already in other dataset)\n",
    "df = df[df['unit_measurement'].isin(['Percentage', 'Rate'])]"
   ]
  },
  {
   "cell_type": "code",
   "execution_count": 7,
   "metadata": {},
   "outputs": [],
   "source": [
    "# drop unnecessary cols\n",
    "\n",
    "df.drop(['low_limit_95p_CI', 'upp_limit_95p_CI', 'data_comment', 'data_source', 'unit_measurement'], axis=1, inplace=True)\n"
   ]
  },
  {
   "cell_type": "code",
   "execution_count": 8,
   "metadata": {},
   "outputs": [
    {
     "data": {
      "text/html": [
       "<div>\n",
       "<style>\n",
       "    .dataframe thead tr:only-child th {\n",
       "        text-align: right;\n",
       "    }\n",
       "\n",
       "    .dataframe thead th {\n",
       "        text-align: left;\n",
       "    }\n",
       "\n",
       "    .dataframe tbody tr th {\n",
       "        vertical-align: top;\n",
       "    }\n",
       "</style>\n",
       "<table border=\"1\" class=\"dataframe\">\n",
       "  <thead>\n",
       "    <tr style=\"text-align: right;\">\n",
       "      <th></th>\n",
       "      <th>county_name</th>\n",
       "      <th>health_topic</th>\n",
       "      <th>indicator</th>\n",
       "      <th>event_count</th>\n",
       "      <th>avg_num_of_denominator</th>\n",
       "      <th>precent_or_rate</th>\n",
       "      <th>year</th>\n",
       "      <th>lat</th>\n",
       "      <th>lng</th>\n",
       "    </tr>\n",
       "  </thead>\n",
       "  <tbody>\n",
       "    <tr>\n",
       "      <th>0</th>\n",
       "      <td>Albany</td>\n",
       "      <td>Family Planning/Natality Indicators</td>\n",
       "      <td>Percentage of births within 24 months of previ...</td>\n",
       "      <td>2043.0</td>\n",
       "      <td>3144.0</td>\n",
       "      <td>21.7</td>\n",
       "      <td>2012-2014</td>\n",
       "      <td>42.678066</td>\n",
       "      <td>-73.814233</td>\n",
       "    </tr>\n",
       "    <tr>\n",
       "      <th>1</th>\n",
       "      <td>Allegany</td>\n",
       "      <td>Family Planning/Natality Indicators</td>\n",
       "      <td>Percentage of births within 24 months of previ...</td>\n",
       "      <td>399.0</td>\n",
       "      <td>487.0</td>\n",
       "      <td>27.3</td>\n",
       "      <td>2012-2014</td>\n",
       "      <td>42.226801</td>\n",
       "      <td>-78.020567</td>\n",
       "    </tr>\n",
       "    <tr>\n",
       "      <th>2</th>\n",
       "      <td>Bronx</td>\n",
       "      <td>Family Planning/Natality Indicators</td>\n",
       "      <td>Percentage of births within 24 months of previ...</td>\n",
       "      <td>10032.0</td>\n",
       "      <td>21249.0</td>\n",
       "      <td>15.7</td>\n",
       "      <td>2012-2014</td>\n",
       "      <td>40.85589</td>\n",
       "      <td>-73.868294</td>\n",
       "    </tr>\n",
       "    <tr>\n",
       "      <th>3</th>\n",
       "      <td>Broome</td>\n",
       "      <td>Family Planning/Natality Indicators</td>\n",
       "      <td>Percentage of births within 24 months of previ...</td>\n",
       "      <td>1654.0</td>\n",
       "      <td>2083.0</td>\n",
       "      <td>26.5</td>\n",
       "      <td>2012-2014</td>\n",
       "      <td>42.122015</td>\n",
       "      <td>-75.933191</td>\n",
       "    </tr>\n",
       "    <tr>\n",
       "      <th>4</th>\n",
       "      <td>Capital Region</td>\n",
       "      <td>Family Planning/Natality Indicators</td>\n",
       "      <td>Percentage of births within 24 months of previ...</td>\n",
       "      <td>6273.0</td>\n",
       "      <td>9774.0</td>\n",
       "      <td>21.4</td>\n",
       "      <td>2012-2014</td>\n",
       "      <td>NaN</td>\n",
       "      <td>NaN</td>\n",
       "    </tr>\n",
       "  </tbody>\n",
       "</table>\n",
       "</div>"
      ],
      "text/plain": [
       "      county_name                         health_topic  \\\n",
       "0          Albany  Family Planning/Natality Indicators   \n",
       "1        Allegany  Family Planning/Natality Indicators   \n",
       "2           Bronx  Family Planning/Natality Indicators   \n",
       "3          Broome  Family Planning/Natality Indicators   \n",
       "4  Capital Region  Family Planning/Natality Indicators   \n",
       "\n",
       "                                           indicator  event_count  \\\n",
       "0  Percentage of births within 24 months of previ...       2043.0   \n",
       "1  Percentage of births within 24 months of previ...        399.0   \n",
       "2  Percentage of births within 24 months of previ...      10032.0   \n",
       "3  Percentage of births within 24 months of previ...       1654.0   \n",
       "4  Percentage of births within 24 months of previ...       6273.0   \n",
       "\n",
       "   avg_num_of_denominator  precent_or_rate       year        lat         lng  \n",
       "0                  3144.0             21.7  2012-2014  42.678066  -73.814233  \n",
       "1                   487.0             27.3  2012-2014  42.226801  -78.020567  \n",
       "2                 21249.0             15.7  2012-2014   40.85589  -73.868294  \n",
       "3                  2083.0             26.5  2012-2014  42.122015  -75.933191  \n",
       "4                  9774.0             21.4  2012-2014        NaN         NaN  "
      ]
     },
     "execution_count": 8,
     "metadata": {},
     "output_type": "execute_result"
    }
   ],
   "source": [
    "df.head()\n"
   ]
  },
  {
   "cell_type": "code",
   "execution_count": 9,
   "metadata": {},
   "outputs": [
    {
     "data": {
      "text/plain": [
       "23791"
      ]
     },
     "execution_count": 9,
     "metadata": {},
     "output_type": "execute_result"
    }
   ],
   "source": [
    "df.year.unique()\n",
    "df.shape[0]"
   ]
  },
  {
   "cell_type": "code",
   "execution_count": 10,
   "metadata": {},
   "outputs": [
    {
     "data": {
      "text/plain": [
       "array(['Albany', 'Allegany', 'Bronx', 'Broome', 'Capital Region',\n",
       "       'Cattaraugus', 'Cayuga', 'Central NY', 'Chautauqua', 'Chemung',\n",
       "       'Chenango', 'Clinton', 'Columbia', 'Cortland', 'Delaware',\n",
       "       'Dutchess', 'Erie', 'Essex', 'Finger Lakes', 'Franklin', 'Fulton',\n",
       "       'Genesee', 'North Country', 'Greene', 'Hamilton', 'Herkimer',\n",
       "       'Jefferson', 'Kings', 'Lewis', 'Livingston', 'Long Island',\n",
       "       'Madison', 'Mid-Hudson', 'Mohawk Valley', 'Monroe', 'Montgomery',\n",
       "       'Nassau', 'New York', 'New York City', 'New York State', 'Niagara',\n",
       "       'Oneida', 'Onondaga', 'Ontario', 'Orange', 'Orleans', 'Oswego',\n",
       "       'Otsego', 'Putnam', 'Queens', 'Rensselaer', 'Richmond', 'Rockland',\n",
       "       'Saratoga', 'Schenectady', 'Schoharie', 'Schuyler', 'Seneca',\n",
       "       'Southern Tier', 'St. Lawrence', 'Steuben', 'Suffolk', 'Sullivan',\n",
       "       'Tioga', 'Tompkins', 'Tug Hill Seaway', 'Ulster', 'Warren',\n",
       "       'Washington', 'Wayne', 'Westchester', 'Western NY', 'Wyoming',\n",
       "       'Yates', 'Essex/Hamilton', 'Hamilton/Essex',\n",
       "       'New York State (excluding NYC)'], dtype=object)"
      ]
     },
     "execution_count": 10,
     "metadata": {},
     "output_type": "execute_result"
    }
   ],
   "source": [
    "df.county_name.unique()"
   ]
  },
  {
   "cell_type": "code",
   "execution_count": 11,
   "metadata": {},
   "outputs": [
    {
     "name": "stderr",
     "output_type": "stream",
     "text": [
      "/home/ubuntu/anaconda3/lib/python3.6/site-packages/pandas/core/indexing.py:517: SettingWithCopyWarning: \n",
      "A value is trying to be set on a copy of a slice from a DataFrame.\n",
      "Try using .loc[row_indexer,col_indexer] = value instead\n",
      "\n",
      "See the caveats in the documentation: http://pandas.pydata.org/pandas-docs/stable/indexing.html#indexing-view-versus-copy\n",
      "  self.obj[item] = s\n"
     ]
    }
   ],
   "source": [
    "hamilton_df = df[df['county_name'].isin(['Essex/Hamilton', 'Hamilton/Essex'])]\n",
    "hamilton_df.loc[:, 'county_name'] = 'Hamilton'\n",
    "essex_df = hamilton_df.copy()\n",
    "essex_df.loc[:, 'county_name'] = 'Essex'"
   ]
  },
  {
   "cell_type": "code",
   "execution_count": 12,
   "metadata": {
    "collapsed": true
   },
   "outputs": [],
   "source": [
    "df = df[~df['county_name'].isin(['Essex/Hamilton', 'Hamilton/Essex'])].append(hamilton_df).append(essex_df)"
   ]
  },
  {
   "cell_type": "code",
   "execution_count": 13,
   "metadata": {},
   "outputs": [
    {
     "data": {
      "text/plain": [
       "23811"
      ]
     },
     "execution_count": 13,
     "metadata": {},
     "output_type": "execute_result"
    }
   ],
   "source": [
    "df.shape[0]"
   ]
  },
  {
   "cell_type": "code",
   "execution_count": 14,
   "metadata": {},
   "outputs": [],
   "source": [
    "df = df[~df['county_name'].isin(['New York State (excluding NYC)', 'Central NY', 'Western NY'])]"
   ]
  },
  {
   "cell_type": "code",
   "execution_count": 15,
   "metadata": {},
   "outputs": [
    {
     "data": {
      "text/plain": [
       "23162"
      ]
     },
     "execution_count": 15,
     "metadata": {},
     "output_type": "execute_result"
    }
   ],
   "source": [
    "df.shape[0]"
   ]
  },
  {
   "cell_type": "code",
   "execution_count": 16,
   "metadata": {},
   "outputs": [
    {
     "data": {
      "text/html": [
       "<div>\n",
       "<style>\n",
       "    .dataframe thead tr:only-child th {\n",
       "        text-align: right;\n",
       "    }\n",
       "\n",
       "    .dataframe thead th {\n",
       "        text-align: left;\n",
       "    }\n",
       "\n",
       "    .dataframe tbody tr th {\n",
       "        vertical-align: top;\n",
       "    }\n",
       "</style>\n",
       "<table border=\"1\" class=\"dataframe\">\n",
       "  <thead>\n",
       "    <tr style=\"text-align: right;\">\n",
       "      <th></th>\n",
       "      <th>county_name</th>\n",
       "      <th>health_topic</th>\n",
       "      <th>indicator</th>\n",
       "      <th>event_count</th>\n",
       "      <th>avg_num_of_denominator</th>\n",
       "      <th>precent_or_rate</th>\n",
       "      <th>year</th>\n",
       "      <th>lat</th>\n",
       "      <th>lng</th>\n",
       "    </tr>\n",
       "  </thead>\n",
       "  <tbody>\n",
       "    <tr>\n",
       "      <th>0</th>\n",
       "      <td>Albany</td>\n",
       "      <td>Family Planning/Natality Indicators</td>\n",
       "      <td>Percentage of births within 24 months of previ...</td>\n",
       "      <td>2043.0</td>\n",
       "      <td>3144.0</td>\n",
       "      <td>21.7</td>\n",
       "      <td>2012-2014</td>\n",
       "      <td>42.678066</td>\n",
       "      <td>-73.814233</td>\n",
       "    </tr>\n",
       "    <tr>\n",
       "      <th>1</th>\n",
       "      <td>Allegany</td>\n",
       "      <td>Family Planning/Natality Indicators</td>\n",
       "      <td>Percentage of births within 24 months of previ...</td>\n",
       "      <td>399.0</td>\n",
       "      <td>487.0</td>\n",
       "      <td>27.3</td>\n",
       "      <td>2012-2014</td>\n",
       "      <td>42.226801</td>\n",
       "      <td>-78.020567</td>\n",
       "    </tr>\n",
       "    <tr>\n",
       "      <th>2</th>\n",
       "      <td>Bronx</td>\n",
       "      <td>Family Planning/Natality Indicators</td>\n",
       "      <td>Percentage of births within 24 months of previ...</td>\n",
       "      <td>10032.0</td>\n",
       "      <td>21249.0</td>\n",
       "      <td>15.7</td>\n",
       "      <td>2012-2014</td>\n",
       "      <td>40.85589</td>\n",
       "      <td>-73.868294</td>\n",
       "    </tr>\n",
       "    <tr>\n",
       "      <th>3</th>\n",
       "      <td>Broome</td>\n",
       "      <td>Family Planning/Natality Indicators</td>\n",
       "      <td>Percentage of births within 24 months of previ...</td>\n",
       "      <td>1654.0</td>\n",
       "      <td>2083.0</td>\n",
       "      <td>26.5</td>\n",
       "      <td>2012-2014</td>\n",
       "      <td>42.122015</td>\n",
       "      <td>-75.933191</td>\n",
       "    </tr>\n",
       "    <tr>\n",
       "      <th>4</th>\n",
       "      <td>Capital Region</td>\n",
       "      <td>Family Planning/Natality Indicators</td>\n",
       "      <td>Percentage of births within 24 months of previ...</td>\n",
       "      <td>6273.0</td>\n",
       "      <td>9774.0</td>\n",
       "      <td>21.4</td>\n",
       "      <td>2012-2014</td>\n",
       "      <td>NaN</td>\n",
       "      <td>NaN</td>\n",
       "    </tr>\n",
       "  </tbody>\n",
       "</table>\n",
       "</div>"
      ],
      "text/plain": [
       "      county_name                         health_topic  \\\n",
       "0          Albany  Family Planning/Natality Indicators   \n",
       "1        Allegany  Family Planning/Natality Indicators   \n",
       "2           Bronx  Family Planning/Natality Indicators   \n",
       "3          Broome  Family Planning/Natality Indicators   \n",
       "4  Capital Region  Family Planning/Natality Indicators   \n",
       "\n",
       "                                           indicator  event_count  \\\n",
       "0  Percentage of births within 24 months of previ...       2043.0   \n",
       "1  Percentage of births within 24 months of previ...        399.0   \n",
       "2  Percentage of births within 24 months of previ...      10032.0   \n",
       "3  Percentage of births within 24 months of previ...       1654.0   \n",
       "4  Percentage of births within 24 months of previ...       6273.0   \n",
       "\n",
       "   avg_num_of_denominator  precent_or_rate       year        lat         lng  \n",
       "0                  3144.0             21.7  2012-2014  42.678066  -73.814233  \n",
       "1                   487.0             27.3  2012-2014  42.226801  -78.020567  \n",
       "2                 21249.0             15.7  2012-2014   40.85589  -73.868294  \n",
       "3                  2083.0             26.5  2012-2014  42.122015  -75.933191  \n",
       "4                  9774.0             21.4  2012-2014        NaN         NaN  "
      ]
     },
     "execution_count": 16,
     "metadata": {},
     "output_type": "execute_result"
    }
   ],
   "source": [
    "df.head()"
   ]
  },
  {
   "cell_type": "code",
   "execution_count": 17,
   "metadata": {},
   "outputs": [],
   "source": [
    "# keep most up-to-date indicators\n",
    "\n",
    "df.sort_values('year', ascending=True, inplace=True)\n",
    "df.drop_duplicates(['county_name', 'health_topic', 'indicator'], keep='last', inplace=True)"
   ]
  },
  {
   "cell_type": "code",
   "execution_count": 18,
   "metadata": {},
   "outputs": [
    {
     "data": {
      "text/plain": [
       "array(['Chemung', 'Ontario', 'Orange', 'Orleans', 'Oswego', 'Otsego',\n",
       "       'Putnam', 'Queens', 'Rensselaer', 'Richmond', 'Rockland',\n",
       "       'Saratoga', 'Schenectady', 'Schoharie', 'Schuyler', 'Seneca',\n",
       "       'St. Lawrence', 'Steuben', 'Suffolk', 'Sullivan', 'Tioga',\n",
       "       'Tompkins', 'Ulster', 'Warren', 'Washington', 'Wayne',\n",
       "       'Westchester', 'Wyoming', 'Onondaga', 'Oneida', 'Niagara',\n",
       "       'New York State', 'Bronx', 'Broome', 'Cattaraugus', 'Cayuga',\n",
       "       'Chautauqua', 'Chenango', 'Clinton', 'Columbia', 'Cortland',\n",
       "       'Delaware', 'Dutchess', 'Erie', 'Yates', 'Essex', 'Fulton',\n",
       "       'Genesee', 'Greene', 'Hamilton', 'Herkimer', 'Jefferson', 'Kings',\n",
       "       'Livingston', 'Madison', 'Monroe', 'Montgomery', 'Nassau',\n",
       "       'New York', 'Franklin', 'Allegany', 'Lewis', 'Albany',\n",
       "       'Capital Region', 'Finger Lakes', 'Southern Tier',\n",
       "       'Tug Hill Seaway', 'North Country', 'New York City',\n",
       "       'Mohawk Valley', 'Mid-Hudson', 'Long Island'], dtype=object)"
      ]
     },
     "execution_count": 18,
     "metadata": {},
     "output_type": "execute_result"
    }
   ],
   "source": [
    "df.county_name.unique()"
   ]
  },
  {
   "cell_type": "code",
   "execution_count": 19,
   "metadata": {},
   "outputs": [
    {
     "data": {
      "text/html": [
       "<div>\n",
       "<style>\n",
       "    .dataframe thead tr:only-child th {\n",
       "        text-align: right;\n",
       "    }\n",
       "\n",
       "    .dataframe thead th {\n",
       "        text-align: left;\n",
       "    }\n",
       "\n",
       "    .dataframe tbody tr th {\n",
       "        vertical-align: top;\n",
       "    }\n",
       "</style>\n",
       "<table border=\"1\" class=\"dataframe\">\n",
       "  <thead>\n",
       "    <tr style=\"text-align: right;\">\n",
       "      <th></th>\n",
       "      <th>county_name</th>\n",
       "      <th>health_topic</th>\n",
       "      <th>indicator</th>\n",
       "      <th>event_count</th>\n",
       "      <th>avg_num_of_denominator</th>\n",
       "      <th>precent_or_rate</th>\n",
       "      <th>year</th>\n",
       "      <th>lat</th>\n",
       "      <th>lng</th>\n",
       "    </tr>\n",
       "  </thead>\n",
       "  <tbody>\n",
       "    <tr>\n",
       "      <th>8717</th>\n",
       "      <td>Chemung</td>\n",
       "      <td>Tobacco, Alcohol and Other Substance Abuse Ind...</td>\n",
       "      <td>Age-adjusted percentage of adults living in ho...</td>\n",
       "      <td>NaN</td>\n",
       "      <td>NaN</td>\n",
       "      <td>71.0</td>\n",
       "      <td>2008-2009</td>\n",
       "      <td>42.116644</td>\n",
       "      <td>-76.812331</td>\n",
       "    </tr>\n",
       "    <tr>\n",
       "      <th>16777</th>\n",
       "      <td>Ontario</td>\n",
       "      <td>Obesity and Related Indicators</td>\n",
       "      <td>Age-adjusted percentage of adults eating 5 or ...</td>\n",
       "      <td>NaN</td>\n",
       "      <td>NaN</td>\n",
       "      <td>32.9</td>\n",
       "      <td>2008-2009</td>\n",
       "      <td>42.894571</td>\n",
       "      <td>-77.252045</td>\n",
       "    </tr>\n",
       "    <tr>\n",
       "      <th>16778</th>\n",
       "      <td>Orange</td>\n",
       "      <td>Obesity and Related Indicators</td>\n",
       "      <td>Age-adjusted percentage of adults eating 5 or ...</td>\n",
       "      <td>NaN</td>\n",
       "      <td>NaN</td>\n",
       "      <td>30.2</td>\n",
       "      <td>2008-2009</td>\n",
       "      <td>41.422459</td>\n",
       "      <td>-74.241929</td>\n",
       "    </tr>\n",
       "    <tr>\n",
       "      <th>16779</th>\n",
       "      <td>Orleans</td>\n",
       "      <td>Obesity and Related Indicators</td>\n",
       "      <td>Age-adjusted percentage of adults eating 5 or ...</td>\n",
       "      <td>NaN</td>\n",
       "      <td>NaN</td>\n",
       "      <td>24.9</td>\n",
       "      <td>2008-2009</td>\n",
       "      <td>43.248394</td>\n",
       "      <td>-78.218438</td>\n",
       "    </tr>\n",
       "    <tr>\n",
       "      <th>16780</th>\n",
       "      <td>Oswego</td>\n",
       "      <td>Obesity and Related Indicators</td>\n",
       "      <td>Age-adjusted percentage of adults eating 5 or ...</td>\n",
       "      <td>NaN</td>\n",
       "      <td>NaN</td>\n",
       "      <td>27.1</td>\n",
       "      <td>2008-2009</td>\n",
       "      <td>43.39123</td>\n",
       "      <td>-76.31133</td>\n",
       "    </tr>\n",
       "  </tbody>\n",
       "</table>\n",
       "</div>"
      ],
      "text/plain": [
       "      county_name                                       health_topic  \\\n",
       "8717      Chemung  Tobacco, Alcohol and Other Substance Abuse Ind...   \n",
       "16777     Ontario                     Obesity and Related Indicators   \n",
       "16778      Orange                     Obesity and Related Indicators   \n",
       "16779     Orleans                     Obesity and Related Indicators   \n",
       "16780      Oswego                     Obesity and Related Indicators   \n",
       "\n",
       "                                               indicator  event_count  \\\n",
       "8717   Age-adjusted percentage of adults living in ho...          NaN   \n",
       "16777  Age-adjusted percentage of adults eating 5 or ...          NaN   \n",
       "16778  Age-adjusted percentage of adults eating 5 or ...          NaN   \n",
       "16779  Age-adjusted percentage of adults eating 5 or ...          NaN   \n",
       "16780  Age-adjusted percentage of adults eating 5 or ...          NaN   \n",
       "\n",
       "       avg_num_of_denominator  precent_or_rate       year        lat  \\\n",
       "8717                      NaN             71.0  2008-2009  42.116644   \n",
       "16777                     NaN             32.9  2008-2009  42.894571   \n",
       "16778                     NaN             30.2  2008-2009  41.422459   \n",
       "16779                     NaN             24.9  2008-2009  43.248394   \n",
       "16780                     NaN             27.1  2008-2009   43.39123   \n",
       "\n",
       "              lng  \n",
       "8717   -76.812331  \n",
       "16777  -77.252045  \n",
       "16778  -74.241929  \n",
       "16779  -78.218438  \n",
       "16780   -76.31133  "
      ]
     },
     "execution_count": 19,
     "metadata": {},
     "output_type": "execute_result"
    }
   ],
   "source": [
    "df.head()\n"
   ]
  },
  {
   "cell_type": "code",
   "execution_count": 22,
   "metadata": {},
   "outputs": [],
   "source": [
    "df.shape[0]\n",
    "df.drop('year', axis=1, inplace=True)"
   ]
  },
  {
   "cell_type": "code",
   "execution_count": 23,
   "metadata": {
    "collapsed": true
   },
   "outputs": [],
   "source": [
    "df.to_csv('community_health_cleaned.csv', index=False)"
   ]
  },
  {
   "cell_type": "code",
   "execution_count": null,
   "metadata": {
    "collapsed": true
   },
   "outputs": [],
   "source": []
  }
 ],
 "metadata": {
  "kernelspec": {
   "display_name": "Python 3",
   "language": "python",
   "name": "python3"
  },
  "language_info": {
   "codemirror_mode": {
    "name": "ipython",
    "version": 3
   },
   "file_extension": ".py",
   "mimetype": "text/x-python",
   "name": "python",
   "nbconvert_exporter": "python",
   "pygments_lexer": "ipython3",
   "version": "3.6.3"
  }
 },
 "nbformat": 4,
 "nbformat_minor": 2
}
